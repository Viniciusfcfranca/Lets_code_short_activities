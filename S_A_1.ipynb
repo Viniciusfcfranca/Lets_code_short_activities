{
 "cells": [
  {
   "cell_type": "markdown",
   "metadata": {},
   "source": [
    "# 1) Faça um programa que peça um valor monetário e diminua-o em 15%. Seu programa deve imprimir a mensagem “O novo valor é [valor]”.\n"
   ]
  },
  {
   "cell_type": "code",
   "execution_count": 16,
   "metadata": {},
   "outputs": [],
   "source": [
    "def val_red():\n",
    "    valor = input()\n",
    "    valor = float(valor)\n",
    "    valor2 = valor*0.15\n",
    "    valor3 = valor-valor2\n",
    "    return print(\"O novo valor é: \", valor3)"
   ]
  },
  {
   "cell_type": "code",
   "execution_count": 17,
   "metadata": {},
   "outputs": [
    {
     "name": "stdout",
     "output_type": "stream",
     "text": [
      "15\n",
      "O novo valor é:  12.75\n"
     ]
    }
   ],
   "source": [
    "val_red()"
   ]
  },
  {
   "cell_type": "code",
   "execution_count": 18,
   "metadata": {},
   "outputs": [
    {
     "name": "stdout",
     "output_type": "stream",
     "text": [
      "10\n",
      "O novo valor é:  8.5\n"
     ]
    }
   ],
   "source": [
    "val_red()"
   ]
  },
  {
   "cell_type": "markdown",
   "metadata": {},
   "source": [
    "# 2) Faça um programa que leia a validade das informações:\n",
    "## a. Idade: entre 0 e 150; \n",
    "## b. Salário: maior que 0; \n",
    "## c. Sexo: M, F ou Outro;\n",
    "# O programa deve imprimir uma mensagem de erro para cada informação inválida.\n"
   ]
  },
  {
   "cell_type": "code",
   "execution_count": 33,
   "metadata": {},
   "outputs": [],
   "source": [
    "def cadastro():\n",
    "    idade = input(\"Insira sua idade: \")\n",
    "    idade = float(idade)\n",
    "    if idade <= 0 or idade >=150:\n",
    "        return print(\"Dado de idade incompatível. Por favor, insira um valor válido\")\n",
    "    else:\n",
    "        salario = input(\"Insira sua pretenção salarial: \")\n",
    "        salario = float(salario)\n",
    "        if salario == 0:\n",
    "            return print(\"Salário não pode ser zero. Por favor, digite um valor de salário positivo\")\n",
    "        else:\n",
    "            sexo = input(\"Insira sua identificação sexual: \")\n",
    "            if sexo != 'M' and sexo!= 'F' and sexo!='Outro':\n",
    "                return print(\"As informações de sexo devem ser inseridas como 'M' para homens, 'F' para mulheres e 'Outro' para pessoas não binárias ou que não se identificam com os gêneros em questão\")\n",
    "    return print(\"Cadastro realizado com sucesso\")"
   ]
  },
  {
   "cell_type": "code",
   "execution_count": 31,
   "metadata": {},
   "outputs": [
    {
     "name": "stdout",
     "output_type": "stream",
     "text": [
      "Insira sua idade: -2\n",
      "Dado de idade incompatível. Por favor, insira um valor válido\n"
     ]
    }
   ],
   "source": [
    "cadastro()"
   ]
  },
  {
   "cell_type": "code",
   "execution_count": 34,
   "metadata": {},
   "outputs": [
    {
     "name": "stdout",
     "output_type": "stream",
     "text": [
      "Insira sua idade: 20\n",
      "Insira sua pretenção salarial: 0\n",
      "Salário não pode ser zero. Por favor, digite um valor de salário positivo\n"
     ]
    }
   ],
   "source": [
    "cadastro()"
   ]
  },
  {
   "cell_type": "code",
   "execution_count": 35,
   "metadata": {},
   "outputs": [
    {
     "name": "stdout",
     "output_type": "stream",
     "text": [
      "Insira sua idade: 23\n",
      "Insira sua pretenção salarial: 2000\n",
      "Insira sua identificação sexual: homem\n",
      "As informações de sexo devem ser inseridas como 'M' para homens, 'F' para mulheres e 'Outro' para pessoas não binárias ou que não se identificam com os gêneros em questão\n"
     ]
    }
   ],
   "source": [
    "cadastro()"
   ]
  },
  {
   "cell_type": "code",
   "execution_count": 36,
   "metadata": {},
   "outputs": [
    {
     "name": "stdout",
     "output_type": "stream",
     "text": [
      "Insira sua idade: 22\n",
      "Insira sua pretenção salarial: 3000\n",
      "Insira sua identificação sexual: M\n",
      "Cadastro realizado com sucesso\n"
     ]
    }
   ],
   "source": [
    "cadastro()"
   ]
  },
  {
   "cell_type": "markdown",
   "metadata": {},
   "source": [
    "# 3) Vamos fazer um programa para veriﬁcar quem é o assassino de um crime. Para descobrir o assassino, a polícia faz um pequeno questionário com 5 perguntas onde a resposta só pode ser sim ou não:\n",
    "## a. Mora perto da vítima? \n",
    "## b. Já trabalhou com a vítima? \n",
    "## c. Telefonou para a vítima? \n",
    "## d. Esteve no local do crime? \n",
    "## e. Devia para a vítima?\n",
    "# Cada resposta sim dá um ponto para o suspeito. A polícia considera que os suspeitos com 5 pontos são os assassinos, com 4 a 3 pontos são cúmplices e 2 pontos são apenas suspeitos, necessitando outras investigações. Valores iguais ou abaixo de 1 são liberados.\n"
   ]
  },
  {
   "cell_type": "code",
   "execution_count": 44,
   "metadata": {},
   "outputs": [],
   "source": [
    "def questionario():\n",
    "    pontos = 0\n",
    "    nome = input(\"Insira seu nome: \")\n",
    "    f_q = input('Mora perto da vítima?: ')\n",
    "    if f_q == 'não':\n",
    "        pontos = pontos + 0\n",
    "    elif f_q == 'sim':\n",
    "        pontos = pontos + 1\n",
    "    else:\n",
    "        print(\"Apenas respostas no formato 'sim' ou 'não' são aceitas\")\n",
    "    s_q = input('Já trabalhou para a vítima?: ')\n",
    "    if s_q == 'não':\n",
    "        pontos = pontos + 0\n",
    "    elif s_q == 'sim':\n",
    "        pontos = pontos + 1\n",
    "    else:\n",
    "        print(\"Apenas respostas no formato 'sim' ou 'não' são aceitas\")\n",
    "    t_q = input(\"Telefonou para a vítima?: \")\n",
    "    if t_q == 'não':\n",
    "        pontos = pontos + 0\n",
    "    elif t_q == 'sim':\n",
    "        pontos = pontos + 1\n",
    "    else:\n",
    "        print(\"Apenas respostas no formato 'sim' ou 'não' são aceitas\")\n",
    "    fo_q = input(\"Esteve no local do crime?: \")\n",
    "    if fo_q == 'não':\n",
    "        pontos = pontos + 0\n",
    "    elif fo_q == 'sim':\n",
    "        pontos = pontos + 1\n",
    "    else:\n",
    "        print(\"Apenas respostas no formato 'sim' ou 'não' são aceitas\")\n",
    "    fi_q = input(\"Devia para a vítima?: \")\n",
    "    if fi_q == 'não':\n",
    "        pontos = pontos + 0\n",
    "    elif fi_q == 'sim':\n",
    "        pontos = pontos + 1\n",
    "    else:\n",
    "        print(\"Apenas respostas no formato 'sim' ou 'não' são aceitas\")\n",
    "    \n",
    "    \n",
    "    return print(\"A pontuação de: \"+ nome+\" foi de: \",pontos)"
   ]
  },
  {
   "cell_type": "code",
   "execution_count": 45,
   "metadata": {},
   "outputs": [
    {
     "name": "stdout",
     "output_type": "stream",
     "text": [
      "Insira seu nome: Vinícius\n",
      "Mora perto da vítima?: não\n",
      "Já trabalhou para a vítima?: sim\n",
      "Telefonou para a vítima?: sim\n",
      "Esteve no local do crime?: sim\n",
      "Devia para a vítima?: não\n",
      "A pontuação de: Vinícius foi de:  3\n"
     ]
    }
   ],
   "source": [
    "questionario()"
   ]
  },
  {
   "cell_type": "markdown",
   "metadata": {},
   "source": [
    "# 4) Faça um programa que imprima a tabuada do 9 usando loops."
   ]
  },
  {
   "cell_type": "code",
   "execution_count": 46,
   "metadata": {},
   "outputs": [],
   "source": [
    "def tabuada():\n",
    "    num = 9\n",
    "    l= [1,2,3,4,5,6,7,8,9]\n",
    "    for n in l:\n",
    "        print(num*n)"
   ]
  },
  {
   "cell_type": "code",
   "execution_count": 47,
   "metadata": {},
   "outputs": [
    {
     "name": "stdout",
     "output_type": "stream",
     "text": [
      "9\n",
      "18\n",
      "27\n",
      "36\n",
      "45\n",
      "54\n",
      "63\n",
      "72\n",
      "81\n"
     ]
    }
   ],
   "source": [
    "tabuada()"
   ]
  }
 ],
 "metadata": {
  "kernelspec": {
   "display_name": "Python 3",
   "language": "python",
   "name": "python3"
  },
  "language_info": {
   "codemirror_mode": {
    "name": "ipython",
    "version": 3
   },
   "file_extension": ".py",
   "mimetype": "text/x-python",
   "name": "python",
   "nbconvert_exporter": "python",
   "pygments_lexer": "ipython3",
   "version": "3.8.5"
  }
 },
 "nbformat": 4,
 "nbformat_minor": 4
}
